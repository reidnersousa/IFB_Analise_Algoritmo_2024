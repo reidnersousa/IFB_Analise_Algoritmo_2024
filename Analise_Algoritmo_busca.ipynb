{
  "nbformat": 4,
  "nbformat_minor": 0,
  "metadata": {
    "colab": {
      "provenance": [],
      "authorship_tag": "ABX9TyMThRxAUgPazqq9NkUYuhWB",
      "include_colab_link": true
    },
    "kernelspec": {
      "name": "python3",
      "display_name": "Python 3"
    },
    "language_info": {
      "name": "python"
    }
  },
  "cells": [
    {
      "cell_type": "markdown",
      "metadata": {
        "id": "view-in-github",
        "colab_type": "text"
      },
      "source": [
        "<a href=\"https://colab.research.google.com/github/reidnersousa/IFB_Analise_Algoritmo_2024/blob/main/Analise_Algoritmo_busca.ipynb\" target=\"_parent\"><img src=\"https://colab.research.google.com/assets/colab-badge.svg\" alt=\"Open In Colab\"/></a>"
      ]
    },
    {
      "cell_type": "code",
      "source": [
        "####\n",
        "\n",
        "import numpy as np\n",
        "import random\n",
        "import timeit\n",
        "class Manager:\n",
        "  def __init__(self, input_10_4 , input_10_5,input_10_6,input_10_7):\n",
        "    random.seed(42)\n",
        "    self.QTD_REPETICAO_FOR  = 3\n",
        "\n",
        "    self.input_4 = input_10_4\n",
        "    self.input_5 = input_10_5\n",
        "    self.input_6 = input_10_6\n",
        "    self.input_7 = input_10_7\n",
        "\n",
        "    self.num_q_bin = []\n",
        "    self.num_q_seq = []\n",
        "    self.num_q_seq_o = []\n",
        "\n",
        "    self.resultado_busca_sequencial =[]\n",
        "    self.media_busca_sequencial()\n",
        "\n",
        "\n",
        "    self.resultado_busca_binaria =[]\n",
        "    self.media_busca_binaria()\n",
        "\n",
        "    self.resultado_sequencial_otimizado =[]\n",
        "    self.media_busca_sequencial_otimizado()\n",
        "\n",
        "\n",
        "\n",
        "\n",
        "\n",
        "  def media_busca_sequencial(self):\n",
        "    resultado_sequencial =[]\n",
        "    media_4=self.get_time(self.input_4,self.busca_sequencial)\n",
        "    media_5=self.get_time(self.input_5,self.busca_sequencial)\n",
        "    media_6=self.get_time(self.input_6,self.busca_sequencial)\n",
        "    media_7=self.get_time(self.input_7,self.busca_sequencial)\n",
        "\n",
        "\n",
        "    resultado_sequencial.append(media_4)\n",
        "    resultado_sequencial.append(media_5)\n",
        "    resultado_sequencial.append(media_6)\n",
        "    resultado_sequencial.append(media_7)\n",
        "    self.resultado_busca_sequencial = resultado_sequencial\n",
        "\n",
        "  def media_busca_sequencial_otimizado(self):\n",
        "    resultado_otimizado =[]\n",
        "    media_4=self.get_time(self.input_4,self.busca_sequencial_otimizada)\n",
        "    media_5=self.get_time(self.input_5,self.busca_sequencial_otimizada)\n",
        "    media_6=self.get_time(self.input_6,self.busca_sequencial_otimizada)\n",
        "    media_7=self.get_time(self.input_7,self.busca_sequencial_otimizada)\n",
        "\n",
        "\n",
        "    resultado_otimizado.append(media_4)\n",
        "    resultado_otimizado.append(media_5)\n",
        "    resultado_otimizado.append(media_6)\n",
        "    resultado_otimizado.append(media_7)\n",
        "    self.resultado_sequencial_otimizado = resultado_otimizado\n",
        "\n",
        "  def media_busca_binaria(self):\n",
        "    resultado_binaria =[]\n",
        "    media_4=self.get_time(self.input_4,self.busca_binaria)\n",
        "    media_5=self.get_time(self.input_5,self.busca_binaria)\n",
        "    media_6=self.get_time(self.input_6,self.busca_binaria)\n",
        "    media_7=self.get_time(self.input_7,self.busca_binaria)\n",
        "\n",
        "\n",
        "    resultado_binaria.append(media_4)\n",
        "    resultado_binaria.append(media_5)\n",
        "    resultado_binaria.append(media_6)\n",
        "    resultado_binaria.append(media_7)\n",
        "    self.resultado_busca_binaria = resultado_binaria\n",
        "\n",
        "\n",
        "\n",
        "  def get_time(self,input,metodo_busca):\n",
        "    lista_tempo =[]\n",
        "\n",
        "    for i in range(self.QTD_REPETICAO_FOR):\n",
        "\n",
        "      amostra=self.gerando_amostra(input)\n",
        "      tempo_sequencial = timeit.timeit(lambda: metodo_busca(amostra),number=1)\n",
        "      lista_tempo.append(tempo_sequencial)\n",
        "\n",
        "    media_sequencial = np.mean(lista_tempo)\n",
        "   # print(\"nome metodo\", metodo_busca.__name__ ,\"tempo\",media_sequencial )\n",
        "    print(f\" nome metodo: {metodo_busca.__name__} tamanho amostra:{len(amostra):.0e} tempo {media_sequencial}\")\n",
        "    return media_sequencial\n",
        "\n",
        "  def gerando_amostra(self,N):\n",
        "    sequencia =[]\n",
        "    for i in range(N):\n",
        "      numero_aleatorio = random.randint(1,N)\n",
        "      sequencia.append(numero_aleatorio)\n",
        "\n",
        "    #sequencia=sorted(sequencia)\n",
        "    ### Rodando sem ordenar\n",
        "    sequencia = np.array(sequencia)\n",
        "    sequencia.sort()\n",
        "    return sequencia\n",
        "## Tem que melhora esses algoritmos  de busca sequencial e busca sequencial otimizada\n",
        "  def busca_sequencial(self,vetor,alvo=None):\n",
        "    q = 0\n",
        "    encontrou = False\n",
        "    if alvo is None:\n",
        "      alvo = random.randint(1,len(vetor))\n",
        "    for i in range(len(vetor)):\n",
        "      q = q+1\n",
        "      if vetor[i] == alvo:\n",
        "        encontrou = True\n",
        "    self.num_q_seq.append(q)\n",
        "    return encontrou\n",
        "\n",
        "  def busca_sequencial_otimizada(self,vetor,alvo = None):\n",
        "    encontrou = False\n",
        "    q = 0\n",
        "    if alvo is None:\n",
        "      alvo = random.randint(1,len(vetor))\n",
        "    for i in range(len(vetor)):\n",
        "      if alvo < vetor[i]:\n",
        "        encontrou = False\n",
        "      elif alvo ==vetor[i]:\n",
        "        q = q + 1\n",
        "        encontrou = True\n",
        "\n",
        "    self.num_q_seq_o.append(q)\n",
        "    return encontrou\n",
        "\n",
        "  def busca_binaria(self,vetor,alvo = None):\n",
        "\n",
        "    q=0\n",
        "    if alvo is None:\n",
        "      alvo = random.randint(1,len(vetor))\n",
        "\n",
        "    primeiro = 0\n",
        "    ultimo  = len(vetor)-1\n",
        "    encontrou = False\n",
        "\n",
        "    while primeiro <= ultimo  and  not encontrou:\n",
        "\n",
        "      m = (primeiro + ultimo )//2\n",
        "      q= q+1\n",
        "      if vetor[m]== alvo:\n",
        "\n",
        "        encontrou = True\n",
        "\n",
        "      else :\n",
        "        ### menor\n",
        "        if vetor[m]< alvo :\n",
        "          primeiro = m+1\n",
        "        ### maior\n",
        "        elif vetor[m]> alvo :\n",
        "          ultimo = m-1\n",
        "    #print(\"encontrou\",encontrou,q, vetor[m],alvo)\n",
        "    self.num_q_bin.append(q)\n",
        "    return encontrou\n",
        "\n",
        "  def get_q(self):\n",
        "    num_comparacoes_bin   =self.qtd_compacoes_por_amostra(self.num_q_bin)\n",
        "    num_comparacoes_seq   =self.qtd_compacoes_por_amostra(self.num_q_seq)\n",
        "    num_comparacoes_seq_o =self.qtd_compacoes_por_amostra(self.num_q_seq_o)\n",
        "\n",
        "\n",
        "    print(\">>.\",num_comparacoes_bin)\n",
        "    print(\">>.\",type(num_comparacoes_bin))\n",
        "\n",
        "\n",
        "\n",
        "    self.num_q_bin  = tuple(self.num_q_bin)\n",
        "    self.num_q_seq  = tuple(self.num_q_seq)\n",
        "    self.num_q_seq_o= tuple(self.num_q_seq_o)\n",
        "    self.dicionario ={\"Numero de comparações busca binaria\":self.num_q_bin ,\n",
        "                  \"Numero de comparações busca sequencial\":self.num_q_seq ,\n",
        "                  \"Numero de comparações busca sequencial otimizado\":self.num_q_seq_o\n",
        "                  }\n",
        "  def qtd_compacoes_por_amostra(self,num_q):\n",
        "    am_4 = []\n",
        "    am_5 = []\n",
        "    am_6 = []\n",
        "    am_7 = []\n",
        "    for i ,valor in enumerate(num_q):\n",
        "\n",
        "      if  i < self.QTD_REPETICAO_FOR:\n",
        "        am_4.append(valor)\n",
        "      elif i < self.QTD_REPETICAO_FOR*2:\n",
        "        am_5.append(valor)\n",
        "      elif i < self.QTD_REPETICAO_FOR*3:\n",
        "        am_6.append(valor)\n",
        "      elif i < self.QTD_REPETICAO_FOR*4:\n",
        "        am_7.append(valor)\n",
        "\n",
        "    comparacoes = [am_4 ,am_5,am_6,am_7]\n",
        "\n",
        "\n",
        "    return comparacoes\n",
        "\n",
        "\n",
        "manager = Manager(10**4,10**5,10**6,10**7)\n",
        "manager.get_q()"
      ],
      "metadata": {
        "colab": {
          "base_uri": "https://localhost:8080/"
        },
        "id": "ctd9pvylcGBF",
        "outputId": "23ca20aa-9572-4b28-b9bc-4bb9760c29c2"
      },
      "execution_count": 62,
      "outputs": [
        {
          "output_type": "stream",
          "name": "stdout",
          "text": [
            " nome metodo: busca_sequencial tamanho amostra:1e+04 tempo 0.006213813000916464\n",
            " nome metodo: busca_sequencial tamanho amostra:1e+05 tempo 0.06714972100053274\n",
            " nome metodo: busca_sequencial tamanho amostra:1e+06 tempo 0.2042677046671694\n",
            " nome metodo: busca_sequencial tamanho amostra:1e+07 tempo 2.475574283999473\n",
            " nome metodo: busca_binaria tamanho amostra:1e+04 tempo 2.4090333681670018e-05\n",
            " nome metodo: busca_binaria tamanho amostra:1e+05 tempo 3.779466654426263e-05\n",
            " nome metodo: busca_binaria tamanho amostra:1e+06 tempo 4.589600030158181e-05\n",
            " nome metodo: busca_binaria tamanho amostra:1e+07 tempo 4.398033282389709e-05\n",
            " nome metodo: busca_sequencial_otimizada tamanho amostra:1e+04 tempo 0.002414118332429401\n",
            " nome metodo: busca_sequencial_otimizada tamanho amostra:1e+05 tempo 0.032364487666806475\n",
            " nome metodo: busca_sequencial_otimizada tamanho amostra:1e+06 tempo 0.3660144816670557\n",
            " nome metodo: busca_sequencial_otimizada tamanho amostra:1e+07 tempo 2.2533830616660757\n",
            ">>. [[13, 9, 12], [17, 15, 13], [20, 20, 18], [23, 23, 23]]\n",
            ">>. <class 'list'>\n"
          ]
        }
      ]
    },
    {
      "cell_type": "code",
      "source": [
        "op = {\"Busca 1 \":(\"Amostra\",\"5000\",\"Comparações\",\"5000\"),\n",
        "      \"Busca 1 \":(\"Amostra\",\"5000\",\"Comparações\",\"5000\")}\n",
        "entrada=[[13, 9, 12], [17, 15, 13], [20, 20, 18], [23, 23, 23]]\n",
        "\n",
        "print(type(entrada))\n",
        "class teste :\n",
        "  def __init__(self,comparacoes,nome_busca) :\n",
        "    self.comparacoes = comparacoes\n",
        "    print(self.comparacoes)\n",
        "\n",
        "\n",
        "\n",
        "  def __str__(self):\n",
        "    pass\n",
        "\n"
      ],
      "metadata": {
        "colab": {
          "base_uri": "https://localhost:8080/"
        },
        "id": "CLA3U3CMmNKC",
        "outputId": "b1f183b3-53e9-437d-b659-b7c0fb168903"
      },
      "execution_count": 61,
      "outputs": [
        {
          "output_type": "stream",
          "name": "stdout",
          "text": [
            "<class 'tuple'>\n"
          ]
        }
      ]
    },
    {
      "cell_type": "code",
      "source": [],
      "metadata": {
        "id": "9RBTNgoQoyg3"
      },
      "execution_count": 12,
      "outputs": []
    },
    {
      "cell_type": "code",
      "source": [
        "### Algoritmo de busca binaria , primeiro são definidos as variaveis  first(primeiro index ) = 0 , last (ultimo index ) = len(vetor) -1  e  found(encontrou elemento na lista) = False\n",
        "### enquanto first for menor(<) ou igual(=) ao ultimo  e encontrou for False faz isso:\n",
        "##### dentro do laço é criado  a variaveil midpoint(meio do vetor) ; midpoint   recebe os valores first mais  ultimo e dividir por dois apos a soma.\n",
        "###### esse midpoint vai ser o indice do vetor , apos isso será feito uma busca para ve se o elemento alvo e vetor na posição que foi fornecida pelo midpoint são iguais.\n",
        "###### caso sejam iguais encontrou o elemento no vetor, caso contraririo  e feito uma verificação :\n",
        "####### primeiro é verificado se o alvo menor que vetor com posição do midpoint , caso seja  a variavel ultimo recebe uma nova atribuição que é midpoint menos um .CAso contrairo\n",
        "####### e verificado se o alvo maior que vetor com posição do midpoint , caso seja a variavel primeiro recebe uma nova atribuição que é midpoint mais um.\n",
        "####### Apos uma dessas verificações voltamos para inicio do while onde e feito novamente a atribuição do midpoint , pois agora os valores do primeiro ou ultimo podem de sido alterado assim\n",
        "####### o valor de midpoint é alterando sendo assim com valor do midpoint alterado significa que o index do vetor é diferente ou seja vai ser feito outra verificação , esse processo do if vai ser executado ate acha o alvo\n"
      ],
      "metadata": {
        "id": "W9kvunXDVzgc"
      },
      "execution_count": null,
      "outputs": []
    },
    {
      "cell_type": "code",
      "source": [
        "print(manager.resultado_busca_binaria)\n",
        "print(manager.resultado_busca_sequencial)\n",
        "manager.resultado_sequencial_otimizado\n",
        "manager.q"
      ],
      "metadata": {
        "colab": {
          "base_uri": "https://localhost:8080/"
        },
        "id": "nJcJXFyAGtPN",
        "outputId": "30d793b0-e517-43ce-c8fe-a78c6f98380b"
      },
      "execution_count": null,
      "outputs": [
        {
          "output_type": "stream",
          "name": "stdout",
          "text": [
            "[1.0299998393747956e-05, 1.5240002539940178e-05, 1.7231002857442945e-05]\n",
            "[0.00029586000164272264, 0.0018728300019574817, 0.025888578999001766]\n"
          ]
        },
        {
          "output_type": "execute_result",
          "data": {
            "text/plain": [
              "[]"
            ]
          },
          "metadata": {},
          "execution_count": 92
        }
      ]
    },
    {
      "cell_type": "code",
      "source": [
        "import matplotlib.pyplot as plt\n",
        "\n",
        "def gerando_grafico(entrada,tempo,algoritmo):\n",
        "\n",
        "  plt.figure(figsize=(8,8))\n",
        "  plt.plot(entrada ,tempo[0] , label=algoritmo[0],color='blue',linestyle='--')\n",
        "  plt.plot(entrada ,tempo[1] , label=algoritmo[1],color='black',linestyle='--')\n",
        "  plt.plot(entrada ,tempo[2] , label=algoritmo[2],color='green',linestyle='--')\n",
        "  plt.xlabel(\"tamanho\")\n",
        "  plt.ylabel(\"tempo\")\n",
        "\n",
        "  plt.legend()\n",
        "\n",
        "input=['10^4','10^5','10^6','10^7']\n",
        "tempo = []\n",
        "tempo.append(manager.resultado_busca_binaria)\n",
        "tempo.append(manager.resultado_busca_sequencial)\n",
        "tempo.append(manager.resultado_sequencial_otimizado)\n",
        "\n",
        "algoritmo=['busca binaria','busca  sequencial','busca sequencial otimizada']\n",
        "gerando_grafico(input,tempo,algoritmo)"
      ],
      "metadata": {
        "colab": {
          "base_uri": "https://localhost:8080/",
          "height": 696
        },
        "id": "7DFh_ypDYRHB",
        "outputId": "7ba24ce1-250d-44b5-cbdd-169c424ce08c"
      },
      "execution_count": null,
      "outputs": [
        {
          "output_type": "display_data",
          "data": {
            "text/plain": [
              "<Figure size 800x800 with 1 Axes>"
            ],
            "image/png": "[encoded data removed]"
          },
          "metadata": {}
        }
      ]
    },
    {
      "cell_type": "code",
      "source": [
        "dicto = {\"buscar binaria\":tuple(manager.resultado_busca_binaria)}\n",
        "\n",
        "dicto.values()"
      ],
      "metadata": {
        "colab": {
          "base_uri": "https://localhost:8080/"
        },
        "id": "DllSAlZCiDG5",
        "outputId": "60ea50c8-fab6-4b05-8d4d-4ca929936eaf"
      },
      "execution_count": null,
      "outputs": [
        {
          "output_type": "execute_result",
          "data": {
            "text/plain": [
              "dict_values([(7.392599945887923e-06, 1.6057020038715562e-05, 2.2095599779277108e-05, 2.7126220011268743e-05)])"
            ]
          },
          "metadata": {},
          "execution_count": 89
        }
      ]
    },
    {
      "cell_type": "code",
      "source": [
        "### Gerando os numeros aleatorioamente\n",
        "## entrada possiveis 10^4,10^5^,10^6,10^7\n",
        "\n",
        "import numpy as np\n",
        "import random\n",
        "\n",
        "\n",
        "\n",
        "\n",
        "def gerando_amostra(N):\n",
        "  sequencia =[]\n",
        "  for i in range(N):\n",
        "    numero_aleatorio = random.randint(1,N)\n",
        "    sequencia.append(numero_aleatorio)\n",
        "\n",
        "  #sequencia=sorted(sequencia)\n",
        "  sequencia = np.array(sequencia)\n",
        "  sequencia.sort()\n",
        "  return sequencia\n",
        "\n",
        "amostra_10_4 = gerando_amostra(10**4)\n",
        "print(amostra_10_4)\n",
        "print(len(amostra_10_4))\n",
        "\"\"\"\n",
        "amostra_10_7 = gerando_amostra(10**7)\n",
        "print(amostra_10_7)\n",
        "print(len(amostra_10_7))\n",
        "\n",
        "\n",
        "amostra_10_8= gerando_amostra(10**8)\n",
        "print(amostra_10_8)\n",
        "print(len(amostra_10_8))\n",
        "\"\"\""
      ],
      "metadata": {
        "colab": {
          "base_uri": "https://localhost:8080/",
          "height": 87
        },
        "id": "XRF5CsuEmu4A",
        "outputId": "3d134e96-031b-4fd2-a62b-8d132f62cfe0"
      },
      "execution_count": null,
      "outputs": [
        {
          "output_type": "stream",
          "name": "stdout",
          "text": [
            "[    2     2     3 ...  9999  9999 10000]\n",
            "10000\n"
          ]
        },
        {
          "output_type": "execute_result",
          "data": {
            "text/plain": [
              "'\\namostra_10_7 = gerando_amostra(10**7)\\nprint(amostra_10_7)\\nprint(len(amostra_10_7))\\n\\n\\namostra_10_8= gerando_amostra(10**8)\\nprint(amostra_10_8)\\nprint(len(amostra_10_8))\\n'"
            ],
            "application/vnd.google.colaboratory.intrinsic+json": {
              "type": "string"
            }
          },
          "metadata": {},
          "execution_count": 102
        }
      ]
    },
    {
      "cell_type": "code",
      "source": [
        "import numpy as np\n",
        "\n",
        "\n",
        "print(amostra_10_4)\n",
        "def buscar_binaria(vetor,alvo = None):\n",
        "  q = 0\n",
        "  if alvo is None:\n",
        "    alvo = random.randint(1,len(vetor))\n",
        "    print(\"numero escolhido\",alvo)\n",
        "  tamanho_vetor = len(vetor)\n",
        "  inicial = 0\n",
        "  ultimo  = tamanho_vetor-1\n",
        "\n",
        "  x = alvo\n",
        "\n",
        "  #while inicial < ultimo or  inicial == ultimo :\n",
        "  while inicial <= ultimo :\n",
        "    q =q +1\n",
        "    m = (inicial + ultimo )//2\n",
        "\n",
        "    if vetor[m]== x:\n",
        "      print(\"indice é m \", m)\n",
        "      print(\"vetor\",vetor[m])\n",
        "      print(\"numero de comparaçoes \",q)\n",
        "      break\n",
        "    elif vetor[m]< x :\n",
        "        inicial = m+1\n",
        "    elif vetor[m]> x :\n",
        "      ultimo = m-1\n",
        "    else :\n",
        "      print(\"Não esta no array\")\n",
        "buscar_binaria(amostra_10_4)\n",
        "buscar_binaria(amostra_10_7)"
      ],
      "metadata": {
        "colab": {
          "base_uri": "https://localhost:8080/"
        },
        "id": "1yg9Yr6DmwUz",
        "outputId": "fee53758-459d-4fe2-e330-b9720086941a"
      },
      "execution_count": null,
      "outputs": [
        {
          "output_type": "stream",
          "name": "stdout",
          "text": [
            "[    2     2     3 ...  9999  9999 10000]\n",
            "numero escolhido 3907\n",
            "indice é m  3893\n",
            "vetor 3907\n",
            "numero de comparaçoes  13\n",
            "numero escolhido 8702657\n"
          ]
        }
      ]
    }
  ]
}