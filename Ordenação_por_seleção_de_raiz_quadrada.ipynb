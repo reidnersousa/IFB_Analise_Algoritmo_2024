{
  "nbformat": 4,
  "nbformat_minor": 0,
  "metadata": {
    "colab": {
      "provenance": [],
      "authorship_tag": "ABX9TyMjF+XsisqC7gLM97eGyjPQ",
      "include_colab_link": true
    },
    "kernelspec": {
      "name": "python3",
      "display_name": "Python 3"
    },
    "language_info": {
      "name": "python"
    }
  },
  "cells": [
    {
      "cell_type": "markdown",
      "metadata": {
        "id": "view-in-github",
        "colab_type": "text"
      },
      "source": [
        "<a href=\"https://colab.research.google.com/github/reidnersousa/IFB_Analise_Algoritmo_2024/blob/main/Ordena%C3%A7%C3%A3o_por_sele%C3%A7%C3%A3o_de_raiz_quadrada.ipynb\" target=\"_parent\"><img src=\"https://colab.research.google.com/assets/colab-badge.svg\" alt=\"Open In Colab\"/></a>"
      ]
    },
    {
      "cell_type": "code",
      "source": [
        "import math"
      ],
      "metadata": {
        "id": "dppEh4VD2sJs"
      },
      "execution_count": null,
      "outputs": []
    },
    {
      "cell_type": "markdown",
      "source": [
        "Etapa 1"
      ],
      "metadata": {
        "id": "YrVDhP8H3ksr"
      }
    },
    {
      "cell_type": "code",
      "execution_count": null,
      "metadata": {
        "colab": {
          "base_uri": "https://localhost:8080/"
        },
        "id": "u1mcUGtrvSnm",
        "outputId": "dead6e7e-8a2e-4320-b8ba-c75a9fff41b9"
      },
      "outputs": [
        {
          "output_type": "stream",
          "name": "stdout",
          "text": [
            "[64  6 42 95 60 83 97 14 22 31 76 90 48  7 94 17 49 47  6 13 76 50 61 43\n",
            " 70 73 24 47 19 46  2 29 81 33 11 67 30 92 86 91 80 67 42 17  3 91 47 88\n",
            " 95 79 97 94 43 70 20 86 70  2 25 67 67 38 57 95 72  2 22 29 94  5 42 45\n",
            " 29 95 53 91 13 85 63 43 89 71 94 75 53 51 76  1 38  1 68 17 10 67 83 49\n",
            " 34 66 85 26]\n",
            "qtd_partes 10.0\n",
            "é múltiplo\n",
            "j 1 i 0\n",
            "corte [64  6 42 95 60 83 97 14 22 31]\n",
            "j 2 i 1\n",
            "corte [76 90 48  7 94 17 49 47  6 13]\n",
            "j 3 i 2\n",
            "corte [76 50 61 43 70 73 24 47 19 46]\n",
            "j 4 i 3\n",
            "corte [ 2 29 81 33 11 67 30 92 86 91]\n",
            "j 5 i 4\n",
            "corte [80 67 42 17  3 91 47 88 95 79]\n",
            "j 6 i 5\n",
            "corte [97 94 43 70 20 86 70  2 25 67]\n",
            "j 7 i 6\n",
            "corte [67 38 57 95 72  2 22 29 94  5]\n",
            "j 8 i 7\n",
            "corte [42 45 29 95 53 91 13 85 63 43]\n",
            "j 9 i 8\n",
            "corte [89 71 94 75 53 51 76  1 38  1]\n",
            "j 10 i 9\n",
            "corte [68 17 10 67 83 49 34 66 85 26]\n",
            "lista [array([64,  6, 42, 95, 60, 83, 97, 14, 22, 31]), array([76, 90, 48,  7, 94, 17, 49, 47,  6, 13]), array([76, 50, 61, 43, 70, 73, 24, 47, 19, 46]), array([ 2, 29, 81, 33, 11, 67, 30, 92, 86, 91]), array([80, 67, 42, 17,  3, 91, 47, 88, 95, 79]), array([97, 94, 43, 70, 20, 86, 70,  2, 25, 67]), array([67, 38, 57, 95, 72,  2, 22, 29, 94,  5]), array([42, 45, 29, 95, 53, 91, 13, 85, 63, 43]), array([89, 71, 94, 75, 53, 51, 76,  1, 38,  1]), array([68, 17, 10, 67, 83, 49, 34, 66, 85, 26])]\n"
          ]
        },
        {
          "output_type": "execute_result",
          "data": {
            "text/plain": [
              "True"
            ]
          },
          "metadata": {},
          "execution_count": 2
        }
      ],
      "source": [
        "import numpy as np\n",
        "import math\n",
        "import random\n",
        "\n",
        "\n",
        "def gerando_amostra(N):\n",
        "  sequencia = np.random.randint(1, N + 1, N)\n",
        "  return sequencia\n",
        "N =  100\n",
        "\n",
        "vetor_entrada_100 = gerando_amostra(N)\n",
        "#### Dividindo o vetor em sqrt(N) onde N é tamanho do vetor\n",
        "print(vetor_entrada_100)\n",
        "qtd_partes = np.sqrt(N)\n",
        "print(\"qtd_partes\",qtd_partes)\n",
        "\n",
        "### Caso o tamanho do vetor não seja múltiplo de sqrt(N)\n",
        "\n",
        "\n",
        "if N % qtd_partes ==0:\n",
        "  print(\"é múltiplo\")\n",
        "\n",
        "  lista=[]\n",
        "  j=0\n",
        "  for i in range(0,int(qtd_partes)):\n",
        "    j = j+1\n",
        "    print(\"j\",j,\"i\",i)\n",
        "    corte = vetor_entrada_100[int(qtd_partes)*i:int(qtd_partes)*j]\n",
        "    print(\"corte\",corte)\n",
        "    lista.append(corte)\n",
        "\n",
        "  print(\"lista\",lista)\n",
        "\n",
        "else:\n",
        "  ### a ultima parte terá tamanho (N mod chão(sqrt(N)))\n",
        "  chao_sqrt_n  = math.floor(qtd_partes)\n",
        "  print(chao_sqrt_n)\n",
        "  ultima_parte_tamanho =  N % chao_sqrt_n\n",
        "  print(\"ultima_parte tamanho\",ultima_parte_tamanho)\n",
        "\n",
        "\n",
        "  lista=[]\n",
        "  j=0\n",
        "  for i in range(0,int(qtd_partes)):\n",
        "    j = j+1\n",
        "    print(\"j\",j,\"i\",i)\n",
        "    corte = vetor_entrada_100[int(qtd_partes)*i:int(qtd_partes)*j]\n",
        "    print(\"corte\",corte)\n",
        "    lista.append(corte)\n",
        "  corte_ultimo = vetor_entrada_100[int(qtd_partes)*j:]\n",
        "  print(\"corte_ultimo\",corte_ultimo)\n",
        "  lista.append(corte_ultimo)\n",
        "  print(\"lista\",lista)\n",
        "\n",
        "\n",
        "\n",
        "def eh_multiplo(N,qtd_partes):\n",
        "  return N % qtd_partes ==0\n",
        "\n",
        "eh_multiplo(N,qtd_partes)\n",
        "\n",
        "\n"
      ]
    },
    {
      "cell_type": "markdown",
      "source": [
        "Etapa 2"
      ],
      "metadata": {
        "id": "SBmsyyVb3nL7"
      }
    },
    {
      "cell_type": "code",
      "source": [
        "lista\n"
      ],
      "metadata": {
        "colab": {
          "base_uri": "https://localhost:8080/"
        },
        "id": "OupAY0CPvsWk",
        "outputId": "5b0df9ba-8008-40e3-b0dd-1c529434edad"
      },
      "execution_count": null,
      "outputs": [
        {
          "output_type": "execute_result",
          "data": {
            "text/plain": [
              "[array([70, 81, 41, 77, 14,  9, 33, 63, 68, 29]),\n",
              " array([26, 63, 93, 83,  9, 56, 20,  6, 73,  8]),\n",
              " array([49, 91, 62, 48, 88, 34, 56, 86, 14, 44]),\n",
              " array([88, 29, 31, 66, 81, 56,  8, 86, 24, 63]),\n",
              " array([68, 62, 41, 75, 53, 41, 81, 34, 32, 61]),\n",
              " array([ 52,  26,  71,  37, 100,  73,  17, 100,  91,  13]),\n",
              " array([81, 59, 90, 57, 80, 82, 72, 18, 84, 30]),\n",
              " array([ 2, 54,  5, 11, 80, 50, 70, 19,  6, 48]),\n",
              " array([43, 81, 23, 47, 61, 21,  1, 69, 42, 66]),\n",
              " array([82, 34, 34, 40, 83, 40, 75, 28, 13, 24])]"
            ]
          },
          "metadata": {},
          "execution_count": 77
        }
      ]
    },
    {
      "cell_type": "code",
      "source": [
        "## 2. Encontre o maior elemento ei de cada parte Vi , com 1 ≤ i ≤ k.\n",
        "\n",
        "lista[0]\n",
        "lista_maiores = []\n",
        "for i in lista:\n",
        "  maior_elemento=np.max(i)\n",
        "\n",
        "  lista_maiores.append(maior_elemento)\n",
        "\n",
        "lista_maiores"
      ],
      "metadata": {
        "colab": {
          "base_uri": "https://localhost:8080/"
        },
        "id": "JRRmodGdEDeG",
        "outputId": "0332e0bc-ec01-415b-da24-460e7d2185f6"
      },
      "execution_count": null,
      "outputs": [
        {
          "output_type": "execute_result",
          "data": {
            "text/plain": [
              "[81, 93, 91, 88, 81, 100, 90, 80, 81, 83]"
            ]
          },
          "metadata": {},
          "execution_count": 81
        }
      ]
    },
    {
      "cell_type": "markdown",
      "source": [
        "Etapa 3"
      ],
      "metadata": {
        "id": "Aj653RIBFBq_"
      }
    },
    {
      "cell_type": "code",
      "source": [
        "#Pegue o maior elemento dentre e1 . . . ek e o insira no vetor solução.\n",
        "# Se o maiorelemento for o ej, então ele deve ser descartado da parte Vj.\n",
        "vetor_solucao =[]\n",
        "vetor_solucao.append(np.max(lista_maiores))\n",
        "lista_maiores.remove(np.max(lista_maiores))\n",
        "print(lista_maiores)\n",
        "vetor_solucao"
      ],
      "metadata": {
        "colab": {
          "base_uri": "https://localhost:8080/"
        },
        "id": "k_FePuldFDiq",
        "outputId": "b0d04c6b-a392-4e1b-b710-0822f7c3bf75"
      },
      "execution_count": null,
      "outputs": [
        {
          "output_type": "stream",
          "name": "stdout",
          "text": [
            "[81, 88, 81, 80, 81, 83]\n"
          ]
        },
        {
          "output_type": "execute_result",
          "data": {
            "text/plain": [
              "[90]"
            ]
          },
          "metadata": {},
          "execution_count": 90
        }
      ]
    },
    {
      "cell_type": "markdown",
      "source": [
        "Etapa 4"
      ],
      "metadata": {
        "id": "9amK07m3HDQ5"
      }
    },
    {
      "cell_type": "code",
      "source": [
        "def bubbleSort(array):\n",
        "    for i in range(len(array)-1,0,-1):\n",
        "      #print(i)\n",
        "      for j in range(i):\n",
        "        #print(\">>\",i)\n",
        "        if array[j]>array[j+1]:\n",
        "          temp = array[j]\n",
        "          array[j] = array[j+1]\n",
        "\n",
        "          array[j+1] = temp\n",
        "\n",
        "\n",
        "alist = [54,26,93,17,77,31,44,55,20]\n",
        "bubbleSort(alist)\n",
        "print(alist)\n"
      ],
      "metadata": {
        "colab": {
          "base_uri": "https://localhost:8080/"
        },
        "id": "l73LARi25VpE",
        "outputId": "9042e22a-eb3a-4706-9cc7-b7f0cdd4971a"
      },
      "execution_count": 51,
      "outputs": [
        {
          "output_type": "stream",
          "name": "stdout",
          "text": [
            "[17, 20, 26, 31, 44, 54, 55, 77, 93]\n"
          ]
        }
      ]
    },
    {
      "cell_type": "code",
      "source": [
        "#Repita os passos de 2 a 3 até que todas as partes estejam vazias\n",
        "\n",
        "class OrdenacaoRaizQuadrada:\n",
        "  def __init__(self,vetor):\n",
        "    self.vetor = vetor\n",
        "    self.N = len(vetor)\n",
        "    self.vetor_solucao =[]\n",
        "\n",
        "  def bubbleSort(self,array):\n",
        "    for i in range(len(array)-1,0,-1):\n",
        "      #print(i)\n",
        "      for j in range(i):\n",
        "        #print(\">>\",i)\n",
        "        if array[j]>array[j+1]:\n",
        "          temp = array[j]\n",
        "          array[j] = array[j+1]\n",
        "          array[j+1] = temp\n",
        "\n",
        "  def etapa_1(self):\n",
        "    qtd_partes = np.sqrt(self.N)\n",
        "    if self.N % qtd_partes == 0:\n",
        "      lista = []\n",
        "      j=0\n",
        "      for i in range(0,int(qtd_partes)):\n",
        "        j = j+1\n",
        "\n",
        "        corte = vetor_entrada_100[int(qtd_partes)*i:int(qtd_partes)*j]\n",
        "\n",
        "        lista.append(corte)\n",
        "\n",
        "    else:\n",
        "      ### a ultima parte terá tamanho (N mod chão(sqrt(N)))\n",
        "      chao_sqrt_n  = math.floor(qtd_partes)\n",
        "      ultima_parte_tamanho =  N % chao_sqrt_n\n",
        "\n",
        "\n",
        "\n",
        "      lista=[]\n",
        "      j=0\n",
        "      for i in range(0,int(qtd_partes)):\n",
        "        j = j+1\n",
        "\n",
        "        corte = vetor_entrada_100[int(qtd_partes)*i:int(qtd_partes)*j]\n",
        "\n",
        "        lista.append(corte)\n",
        "      corte_ultimo = vetor_entrada_100[int(qtd_partes)*j:]\n",
        "\n",
        "      lista.append(corte_ultimo)\n",
        "\n",
        "\n",
        "    return lista\n",
        "    ## 2. Encontre o maior elemento ei de cada parte Vi , com 1 ≤ i ≤ k.\n",
        "  def etapa_2(self):\n",
        "\n",
        "    lista_maiores = []\n",
        "    for i in self.array_de_array:\n",
        "      if i.size>0:\n",
        "        ### Utilizar o bubble sort aqui\n",
        "        self.bubbleSort(i)\n",
        "\n",
        "        maior_elemento=i[-1]\n",
        "        lista_maiores.append(maior_elemento)\n",
        "      else :\n",
        "        pass\n",
        "    lista_maiores = np.array(lista_maiores)\n",
        "    self.lista_maiores= lista_maiores\n",
        "\n",
        "  ### Ajusta etapa 3\n",
        "  def etapa_3(self):\n",
        "\n",
        "    vetor_solucao = []\n",
        "    maior_numero =  np.max(self.lista_maiores)\n",
        "\n",
        "\n",
        "    for i,sub_array in enumerate(self.array_de_array):\n",
        "      for j,numero in enumerate(sub_array):\n",
        "\n",
        "        if numero == maior_numero:\n",
        "\n",
        "          index_a_remover = np.where(sub_array==maior_numero)[0][0]\n",
        "\n",
        "\n",
        "          self.array_de_array[i] = np.delete(sub_array, index_a_remover)\n",
        "          break ## tirando  o break ele remove tudo\n",
        "\n",
        "\n",
        "\n",
        "    self.vetor_solucao.append(np.max(self.lista_maiores))\n",
        "\n",
        "\n",
        "\n",
        "\n",
        "\n",
        "\n",
        "\n",
        "\n",
        "  def etapa_4(self):\n",
        "    print(\"entrei aqui\")\n",
        "    print(self.vetor)\n",
        "    print(self.N)\n",
        "    self.array_de_array=self.etapa_1()\n",
        "\n",
        "    is_array_cheia = True\n",
        "\n",
        "    while is_array_cheia == True:\n",
        "\n",
        "      if  not self.array_de_array :\n",
        "\n",
        "        is_array_cheia = False\n",
        "      else:\n",
        "\n",
        "        #print(\"cheio\")\n",
        "\n",
        "        #print(self.array_de_array)\n",
        "\n",
        "        self.etapa_2()\n",
        "        #print(self.lista_maiores)  ### array([8, 8, 9, 7])\n",
        "        self.etapa_3()\n",
        "        #print(self.vetor_solucao) ##[9]\n",
        "        self.array_de_array = list(filter(np.any,self.array_de_array))\n",
        "\n",
        "    print(self.array_de_array,\">>\",self.vetor_solucao)\n",
        "\n",
        "\n",
        "teste = OrdenacaoRaizQuadrada(vetor_entrada_100)\n",
        "teste.array_de_array = teste.etapa_1()\n",
        "teste.etapa_2()\n",
        "\n"
      ],
      "metadata": {
        "id": "7ZGsCdEzHFHy"
      },
      "execution_count": 55,
      "outputs": []
    },
    {
      "cell_type": "code",
      "source": [
        "print(vetor_entrada_100)\n",
        "teste2_etapa_4 =OrdenacaoRaizQuadrada(vetor_entrada_100)\n",
        "teste2_etapa_4.etapa_4()"
      ],
      "metadata": {
        "colab": {
          "base_uri": "https://localhost:8080/"
        },
        "id": "SBhdsitEPFzp",
        "outputId": "64a3f3d6-836d-4ad6-8d24-df54c8fe0468"
      },
      "execution_count": 56,
      "outputs": [
        {
          "output_type": "stream",
          "name": "stdout",
          "text": [
            "[ 6 14 22 31 42 60 64 83 95 97  6  7 13 17 47 48 49 76 90 94 19 24 43 46\n",
            " 47 50 61 70 73 76  2 11 29 30 33 67 81 86 91 92  3 17 42 47 67 79 80 88\n",
            " 91 95  2 20 25 43 67 70 70 86 94 97  2  5 22 29 38 57 67 72 94 95 13 29\n",
            " 42 43 45 53 63 85 91 95  1  1 38 51 53 71 75 76 89 94 10 17 26 34 49 66\n",
            " 67 68 83 85]\n",
            "entrei aqui\n",
            "[ 6 14 22 31 42 60 64 83 95 97  6  7 13 17 47 48 49 76 90 94 19 24 43 46\n",
            " 47 50 61 70 73 76  2 11 29 30 33 67 81 86 91 92  3 17 42 47 67 79 80 88\n",
            " 91 95  2 20 25 43 67 70 70 86 94 97  2  5 22 29 38 57 67 72 94 95 13 29\n",
            " 42 43 45 53 63 85 91 95  1  1 38 51 53 71 75 76 89 94 10 17 26 34 49 66\n",
            " 67 68 83 85]\n",
            "100\n",
            "[] >> [97, 95, 94, 92, 91, 90, 89, 88, 86, 85, 83, 81, 80, 79, 76, 75, 73, 72, 71, 70, 70, 68, 67, 66, 64, 63, 61, 60, 57, 53, 51, 50, 49, 48, 47, 46, 45, 43, 42, 38, 34, 33, 31, 30, 29, 26, 25, 24, 22, 20, 19, 17, 14, 13, 11, 10, 7, 6, 5, 3, 2, 1, 1]\n"
          ]
        }
      ]
    }
  ]
}